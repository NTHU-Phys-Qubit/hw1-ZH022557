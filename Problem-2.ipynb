{
 "cells": [
  {
   "cell_type": "code",
   "execution_count": null,
   "metadata": {
    "jupyter": {
     "source_hidden": true
    }
   },
   "outputs": [],
   "source": [
    "import numpy as np\n",
    "import matplotlib.pyplot as plt\n",
    "from time import time"
   ]
  },
  {
   "cell_type": "markdown",
   "metadata": {
    "jupyter": {
     "source_hidden": true
    }
   },
   "source": [
    "# 2D Random walk\n",
    "\n",
    "We will concider three kinds of 2D random talk.\n",
    "* $dx$ and $dy$ are uniformly distributed between $[-1/2, +1/2]$.\n",
    "* $dx=+1$ with probability 1/2 and $dx=-1$ with probability 1/2. Similarly for $dy$.\n",
    "* $(dx, dy)=(\\cos(\\theta), \\sin(\\theta))$ where $\\theta$ is uniformly distributed between $[0, 2\\pi]$.\n",
    "\n",
    "For all kinds of the 2D random walk, you should do the following:\n",
    "* Plot a single trajectory.\n",
    "* Plot the distribution of the end point for an ensemble of trajectories.\n",
    "* Plot the histogram of the $r=x^2_f+y^2_f$ for an ensemble of trajectories."
   ]
  },
  {
   "cell_type": "code",
   "execution_count": null,
   "metadata": {},
   "outputs": [],
   "source": [
    "t = time()\n",
    "position = [[],[]]\n",
    "r     =[]\n",
    "x = 0\n",
    "y = 0\n",
    "for j in np.arange(1000):\n",
    "    x  ,  y= x + np.random.random()-0.5 , y + np.random.random()-0.5\n",
    "    position[0].append(x)\n",
    "    position[1].append(y)\n",
    "final=[[x],[y]]\n",
    "for i in np.arange(2000):\n",
    "    x ,y = 0, 0\n",
    "    for j in np.arange(1000):\n",
    "        x  ,  y= x + np.random.random()-0.5 , y + np.random.random()-0.5\n",
    "    final[0].append(x)\n",
    "    final[1].append(y)\n",
    "    r.append(x**2+y**2)\n",
    "r=np.array(r)\n",
    "plt.figure(figsize=(5,5))\n",
    "plt.plot(position[0],position[1])\n",
    "\n",
    "plt.figure(figsize=(30,10))\n",
    "plt.subplot(1,3,1)\n",
    "plt.plot(final[0],final[1],'o')\n",
    "plt.subplot(1,3,2)\n",
    "plt.hist(final[0],bins=60)\n",
    "plt.subplot(1,3,3)\n",
    "plt.hist(final[1],bins=60)\n",
    "plt.figure(figsize=(10,5))\n",
    "plt.subplot(1,2,1)\n",
    "plt.hist(r,bins=60)\n",
    "plt.subplot(1,2,2)\n",
    "plt.hist(r**0.5,bins=60)\n",
    "t=time()-t\n",
    "print (t)"
   ]
  },
  {
   "cell_type": "code",
   "execution_count": null,
   "metadata": {},
   "outputs": [],
   "source": [
    "position = [[],[]]\n",
    "r     =[]\n",
    "t=time()\n",
    "for j in np.arange(1000):\n",
    "        dx , dy = np.random.randint(0,2),np.random.randint(0,2)\n",
    "        if dx == 0:\n",
    "            dx = -1\n",
    "        if dy == 0:\n",
    "            dy = -1\n",
    "        x  ,  y = x + dx , y + dy\n",
    "        position[0].append(x)\n",
    "        position[1].append(y)\n",
    "final = [[x],[y]] \n",
    "for i in np.arange(2000):\n",
    "    x ,y = 0, 0\n",
    "    for j in np.arange(1000):\n",
    "        dx , dy = np.random.randint(0,2),np.random.randint(0,2)\n",
    "        if dx == 0:\n",
    "            dx = -1\n",
    "        if dy == 0:\n",
    "            dy = -1\n",
    "        x  ,  y = x + dx , y + dy\n",
    "    final[0].append(x)\n",
    "    final[1].append(y)\n",
    "    r.append(x**2+y**2)\n",
    "    \n",
    "r=np.array(r)\n",
    "\n",
    "plt.figure(figsize=(5,5))\n",
    "plt.plot(position[0],position[1])\n",
    "\n",
    "plt.figure(figsize=(30,10))\n",
    "plt.subplot(1,3,1)\n",
    "plt.plot(final[0],final[1],'o')\n",
    "plt.subplot(1,3,2)\n",
    "plt.hist(final[0],bins=60)\n",
    "plt.subplot(1,3,3)\n",
    "plt.hist(final[1],bins=60)\n",
    "\n",
    "plt.figure(figsize=(5,5))\n",
    "plt.subplot(1,2,1)\n",
    "plt.hist(r,bins=60)\n",
    "plt.subplot(1,2,2)\n",
    "plt.hist(r**0.5,bins=60)\n",
    "\n",
    "print(time()-t)"
   ]
  },
  {
   "cell_type": "code",
   "execution_count": null,
   "metadata": {},
   "outputs": [],
   "source": [
    "final = [[],[]] \n",
    "position = [[],[]]\n",
    "r     =[]\n",
    "x = 0\n",
    "t=time()\n",
    "for i in np.arange(2000):\n",
    "    x ,y = 0, 0\n",
    "    for j in np.arange(1000):\n",
    "        dtheta = np.random.random()*2*np.pi\n",
    "        dx = np.cos(dtheta)\n",
    "        dy = np.sin(dtheta)\n",
    "        x  ,  y = x + dx , y + dy\n",
    "        if i == 0:\n",
    "            position[0].append(x)\n",
    "            position[1].append(y)\n",
    "    final[0].append(x)\n",
    "    final[1].append(y)\n",
    "    r.append(x**2+y**2)\n",
    "plt.figure(figsize=(5,5))\n",
    "plt.plot(position[0],position[1])\n",
    "\n",
    "plt.figure(figsize=(30,10))\n",
    "plt.subplot(1,3,1)\n",
    "plt.plot(final[0],final[1],'o')\n",
    "plt.subplot(1,3,2)\n",
    "plt.hist(final[0],bins=60)\n",
    "plt.subplot(1,3,3)\n",
    "plt.hist(final[1],bins=60)\n",
    "plt.figure(figsize=(5,5))\n",
    "plt.hist(r,bins=60)"
   ]
  }
 ],
 "metadata": {
  "kernelspec": {
   "display_name": "Python 3",
   "language": "python",
   "name": "python3"
  },
  "language_info": {
   "codemirror_mode": {
    "name": "ipython",
    "version": 3
   },
   "file_extension": ".py",
   "mimetype": "text/x-python",
   "name": "python",
   "nbconvert_exporter": "python",
   "pygments_lexer": "ipython3",
   "version": "3.8.1"
  }
 },
 "nbformat": 4,
 "nbformat_minor": 4
}
